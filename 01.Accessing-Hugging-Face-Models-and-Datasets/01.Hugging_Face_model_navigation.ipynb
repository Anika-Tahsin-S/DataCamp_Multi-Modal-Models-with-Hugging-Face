{
 "cells": [
  {
   "cell_type": "markdown",
   "metadata": {},
   "source": [
    "## Hugging Face model navigation"
   ]
  },
  {
   "cell_type": "markdown",
   "metadata": {},
   "source": [
    "The Hub API"
   ]
  },
  {
   "cell_type": "code",
   "execution_count": null,
   "metadata": {},
   "outputs": [],
   "source": [
    "pip install huggingface_hub[cli]"
   ]
  },
  {
   "cell_type": "code",
   "execution_count": null,
   "metadata": {},
   "outputs": [],
   "source": [
    "#log in to access models in my account\n",
    "huggingface-cli login"
   ]
  },
  {
   "cell_type": "markdown",
   "metadata": {},
   "source": [
    "Searching for models"
   ]
  },
  {
   "cell_type": "code",
   "execution_count": null,
   "metadata": {},
   "outputs": [],
   "source": [
    "from huggingface_hub import HfApi\n",
    "api = HfApi()\n",
    "models = api.list_models(task=\"task_to_image\",\n",
    "                            author=\"CompVis\",\n",
    "                            tags=\"diffusers:StableDiffusionPipeline\",\n",
    "                            sort=\"downloads\")\n",
    "\n",
    "top_model = list(model)[0]\n",
    "print(top_model)"
   ]
  },
  {
   "cell_type": "markdown",
   "metadata": {},
   "source": [
    "Using models from API"
   ]
  },
  {
   "cell_type": "code",
   "execution_count": null,
   "metadata": {},
   "outputs": [],
   "source": [
    "top_model_id = top_model.id\n",
    "print(top_model_id)"
   ]
  },
  {
   "cell_type": "code",
   "execution_count": null,
   "metadata": {},
   "outputs": [],
   "source": [
    "from diffusers import StableDiffusionPipeline\n",
    "pipe = StableDiffusionPipeline.from_pretrained(top_model_id)"
   ]
  },
  {
   "cell_type": "markdown",
   "metadata": {},
   "source": [
    "### Part 1: How many models!?\n",
    "- Use the correct method of api to the list all of the models associated with task k."
   ]
  },
  {
   "cell_type": "code",
   "execution_count": null,
   "metadata": {},
   "outputs": [],
   "source": [
    "for k in tasks:\n",
    "    # Find the list of models for task k\n",
    "    models = api.list_models(task=k)\n",
    "    print(f\"Task: {k}, Models: {len(list(models))}\")"
   ]
  },
  {
   "cell_type": "markdown",
   "metadata": {},
   "source": [
    "### Part 2: Finding the most popular text-to-image model\n",
    "- Use only models that are for text-to-image tasks.\n",
    "- Use an appropriate tag to ensure the model can be loaded by the StableDiffusionPipeline class from the diffusers library.\n",
    "- Sort the results according to the number of \"likes\".\n",
    "- Load the most popular model using its ID."
   ]
  },
  {
   "cell_type": "code",
   "execution_count": null,
   "metadata": {},
   "outputs": [],
   "source": [
    "models = api.list_models(\n",
    "    # Use only models that are for text-to-image tasks.\n",
    "    task=\"text-to-image\",\n",
    "    author=\"CompVis\",\n",
    "    # Use an appropriate tag to ensure the model can be loaded by the Diffusers library\n",
    "    tags=\"diffusers:StableDiffusionPipeline\",\n",
    "    # Sort according to the most popular\n",
    "    sort=\"likes\"\n",
    ")\n",
    "\n",
    "models = list(models)\n",
    "\n",
    "# Load the most popular model\n",
    "pipe = StableDiffusionPipeline.from_pretrained(models[0].id)"
   ]
  }
 ],
 "metadata": {
  "language_info": {
   "name": "python"
  }
 },
 "nbformat": 4,
 "nbformat_minor": 2
}

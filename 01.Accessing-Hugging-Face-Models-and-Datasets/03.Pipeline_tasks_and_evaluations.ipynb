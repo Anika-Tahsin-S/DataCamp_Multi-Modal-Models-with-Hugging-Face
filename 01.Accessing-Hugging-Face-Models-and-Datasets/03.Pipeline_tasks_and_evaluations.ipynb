{
 "cells": [
  {
   "cell_type": "markdown",
   "metadata": {},
   "source": [
    "## Pipeline Tasks and Evaluations"
   ]
  },
  {
   "cell_type": "markdown",
   "metadata": {},
   "source": [
    "Current approach, Preprocessor and model directly"
   ]
  },
  {
   "cell_type": "code",
   "execution_count": null,
   "metadata": {},
   "outputs": [],
   "source": [
    "from transformers import BlipProcessor, BlipForConditionalGeneration\n",
    "checkpoint = \"Salesforce/blip-image-captioning-base\"\n",
    "processor = BlipProcessor.from_pretrained(checkpoint)\n",
    "model = BlipForConditionalGeneration.from_pretrained(checkpoint)\n",
    "\n",
    "# Preprocessor and model directly\n",
    "inputs = processor(images=image, return_tensors=\"pt\")\n",
    "gen = model\n",
    "processor.decode(gen[0])"
   ]
  },
  {
   "cell_type": "markdown",
   "metadata": {},
   "source": [
    "Pipelines"
   ]
  },
  {
   "cell_type": "code",
   "execution_count": null,
   "metadata": {},
   "outputs": [],
   "source": [
    "from transformers import pipeline\n",
    "pipe = pipeline(\"image-to-text\", model=checkpoint)\n",
    "pipe(image)"
   ]
  },
  {
   "cell_type": "markdown",
   "metadata": {},
   "source": [
    "Finding models and tasks"
   ]
  },
  {
   "cell_type": "code",
   "execution_count": null,
   "metadata": {},
   "outputs": [],
   "source": [
    "from huggingface_hub import HfApi\n",
    "model = list(api.list_models(task=\"text-to-image\", limit=5))\n",
    "pipe = pipeline(\"text-to-image\", model[0].id)"
   ]
  },
  {
   "cell_type": "markdown",
   "metadata": {},
   "source": [
    "Passing options to models"
   ]
  },
  {
   "cell_type": "code",
   "execution_count": null,
   "metadata": {},
   "outputs": [],
   "source": [
    "pipe = pipeline(task=\"text-to-audio\", model=\"facebook/musicgen-small\", framework=\"pt\")\n",
    "generate_kwargs = {'temperature':0.8, max_new_tokens=20}\n",
    "outputs = pipe(\"Classic rock riff\", **generate_kwargs=generate_kwargs)"
   ]
  },
  {
   "cell_type": "markdown",
   "metadata": {},
   "source": [
    "Evaluating pipeline performance"
   ]
  },
  {
   "cell_type": "code",
   "execution_count": null,
   "metadata": {},
   "outputs": [],
   "source": [
    "from evaluate import evaluator\n",
    "task_evaluator = evaluator(\"image-classification\")\n",
    "metrics_dict = {\"precision\": \"precision\", \"recall\": \"recall\", \"f1\": \"f1\"}\n",
    "label_map = pipe.model.config.label2id\n",
    "\n",
    "eval_results = task_evaluator.compute(model_or_pipeline=pipe, data=dataset, metrics=evaluate.combine(metrics_dict), label_map=label_map)\n",
    "print(eval_results)\n",
    "\n",
    "pipe = pipeline(task=\"image-classification\", model=\"ideepankarsharma2003/AI_ImageClassification_MidjourneyV6_SDXL\")\n",
    "dataset = load_dataset(\"ideepankarsharma2003/Midjourney_v6_Classification_small_shiffled\""
   ]
  },
  {
   "cell_type": "markdown",
   "metadata": {},
   "source": [
    "### Part 1: Pipeline caption generation\n",
    "- Load the image-to-text pipeline with Salesforce/blip-image-captioning-base pretrained model.\n",
    "- Use the pipeline to generate a caption for the image at index 3."
   ]
  },
  {
   "cell_type": "code",
   "execution_count": null,
   "metadata": {},
   "outputs": [],
   "source": [
    "# Load the image-to-text pipeline\n",
    "pipe = pipeline(\"image-to-text\", \"Salesforce/blip-image-captioning-base\")\n",
    "\n",
    "# Use the pipeline to generate a caption with the image of datapoint 3\n",
    "pred = pipe(dataset[3][\"image\"])\n",
    "\n",
    "print(pred)"
   ]
  },
  {
   "cell_type": "markdown",
   "metadata": {},
   "source": [
    "### Part 2: Passing keyword arguments"
   ]
  },
  {
   "cell_type": "code",
   "execution_count": null,
   "metadata": {},
   "outputs": [],
   "source": [
    "# Load a text-to-audio pipeline\n",
    "musicgen = pipeline(task=\"text-to-audio\", model=\"facebook/musicgen-small\", framework=\"pt\")\n",
    "\n",
    "# Make a dictionary to set the generation temperature to 0.8\n",
    "generate_kwargs = {\"temperature\":0.8, \"max_new_tokens\":2}\n",
    "\n",
    "# Generate an audio array passing the arguments\n",
    "outputs = musicgen(\"Classic rock riff\", generate_kwargs=generate_kwargs)\n",
    "sf.write(\"output.wav\", outputs[\"audio\"][0][0], outputs[\"sampling_rate\"])"
   ]
  },
  {
   "cell_type": "markdown",
   "metadata": {},
   "source": [
    "### Part 3: Model evaluation on a custom dataset"
   ]
  },
  {
   "cell_type": "code",
   "execution_count": null,
   "metadata": {},
   "outputs": [],
   "source": [
    "# Instantiate the task evaluator\n",
    "task_evaluator = evaluator(\"image-classification\")\n",
    "\n",
    "task_evaluator.METRIC_KWARGS = {\"average\": \"weighted\"}\n",
    "\n",
    "# Get label map from pipeline\n",
    "label_map = pipe.model.config.label2id\n",
    "\n",
    "# Compute the metrics\n",
    "eval_results = task_evaluator.compute(model_or_pipeline=pipe, data=dataset, \n",
    "                         metric=evaluate.combine(metrics_dict), label_mapping=label_map)\n",
    "\n",
    "print(f\"Precision: {eval_results['precision']:.2f}, Recall: {eval_results['recall']:.2f}\")"
   ]
  }
 ],
 "metadata": {
  "language_info": {
   "name": "python"
  }
 },
 "nbformat": 4,
 "nbformat_minor": 2
}
